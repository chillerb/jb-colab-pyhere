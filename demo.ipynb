{
 "cells": [
  {
   "cell_type": "markdown",
   "id": "325cbcf0",
   "metadata": {},
   "source": [
    "# Pyhere in Colab"
   ]
  },
  {
   "cell_type": "markdown",
   "id": "31e2f443",
   "metadata": {},
   "source": [
    "1. Launch this notebook via the Jupyter Book UI's Launch Button in Google Colab\n",
    "2. Execute the Code Cell in Colab\n",
    "3. Since only this notebook is mounted in Colab, pyhere fails to find a root directory"
   ]
  },
  {
   "cell_type": "code",
   "execution_count": null,
   "id": "a47b51eb",
   "metadata": {},
   "outputs": [],
   "source": [
    "# install pyhere\n",
    "!pip install pyhere"
   ]
  },
  {
   "cell_type": "code",
   "execution_count": 1,
   "id": "0e6d6087",
   "metadata": {},
   "outputs": [],
   "source": [
    "from pyhere import here\n",
    "\n",
    "out_path = here(\"artifacts\")"
   ]
  },
  {
   "cell_type": "code",
   "execution_count": 2,
   "id": "7e64d05a",
   "metadata": {},
   "outputs": [],
   "source": [
    "out_path.mkdir(parents=True, exist_ok=True)\n",
    "\n",
    "my_data = \"hello world\"\n",
    "\n",
    "with open(out_path / \"data.txt\", \"w\") as f:\n",
    "    f.write(my_data)"
   ]
  }
 ],
 "metadata": {
  "kernelspec": {
   "display_name": "jupyter-book",
   "language": "python",
   "name": "python3"
  },
  "language_info": {
   "codemirror_mode": {
    "name": "ipython",
    "version": 3
   },
   "file_extension": ".py",
   "mimetype": "text/x-python",
   "name": "python",
   "nbconvert_exporter": "python",
   "pygments_lexer": "ipython3",
   "version": "3.12.2"
  }
 },
 "nbformat": 4,
 "nbformat_minor": 5
}
